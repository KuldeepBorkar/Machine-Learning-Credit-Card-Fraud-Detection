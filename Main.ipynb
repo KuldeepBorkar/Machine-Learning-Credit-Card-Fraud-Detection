{
  "cells": [
    {
      "cell_type": "code",
      "source": [
        "import tensorflow as tf\n",
        "from tensorflow import keras\n",
        "import pandas\n",
        "from keras.models import Sequential\n",
        "from keras.layers import Dense\n",
        "from keras.wrappers.scikit_learn import KerasClassifier\n",
        "from keras.utils import np_utils\n",
        "from sklearn.model_selection import cross_val_score\n",
        "from sklearn.model_selection import KFold\n",
        "from sklearn.preprocessing import LabelEncoder\n",
        "from sklearn.pipeline import Pipeline\n",
        "print(\"Okay\")"
      ],
      "outputs": [
        {
          "output_type": "stream",
          "name": "stdout",
          "text": [
            "Okay\n"
          ]
        }
      ],
      "execution_count": 1,
      "metadata": {
        "collapsed": true,
        "jupyter": {
          "source_hidden": false,
          "outputs_hidden": false
        },
        "nteract": {
          "transient": {
            "deleting": false
          }
        },
        "execution": {
          "iopub.status.busy": "2020-12-20T05:42:39.296Z",
          "iopub.execute_input": "2020-12-20T05:42:39.312Z",
          "iopub.status.idle": "2020-12-20T05:42:45.059Z",
          "shell.execute_reply": "2020-12-20T05:42:45.095Z"
        }
      }
    },
    {
      "cell_type": "code",
      "source": [
        "import pandas as pd\n",
        "df=pd.read_csv(\"TRAIN.csv\")\n",
        "df.head()"
      ],
      "outputs": [
        {
          "output_type": "execute_result",
          "execution_count": 2,
          "data": {
            "text/plain": "   Index        V1        V2        V3        V4        V5        V6  \\\n0      0  2.245295 -1.160960 -1.966682 -1.430190 -0.607246 -1.508696   \n1      1  1.278609  0.102574  0.512079  0.003930 -0.723474 -1.334105   \n2      2  1.466457  0.026088 -0.499298 -0.674372 -0.144883 -1.178075   \n3      3 -0.922137 -0.371579  2.132018 -0.796997  0.324175 -1.162006   \n4      4 -1.166525  0.255439  2.108464  0.135019 -0.072979  0.910821   \n\n         V7        V8        V9  ...       V21       V22       V23       V24  \\\n0 -0.074415 -0.655096 -1.970141  ...  0.010490  0.521714 -0.064971  0.048849   \n1  0.029958 -0.296595  0.128119  ... -0.081470 -0.182506  0.078986  0.789993   \n2  0.058089 -0.420145 -1.359651  ... -0.234087 -0.710542 -0.001242 -0.174713   \n3  0.277208 -0.249586 -0.775648  ... -0.302654 -0.246899 -0.045745  0.677110   \n4  0.755918  0.355528 -0.422820  ...  0.136470  0.017496  0.121017  0.636266   \n\n        V25       V26       V27       V28  Amount  Class  \n0  0.383290  0.103970 -0.047350 -0.064800   74.75      0  \n1  0.219794  0.938359 -0.078720  0.008119    1.38      0  \n2  0.533719 -0.454779  0.001524  0.030935   10.95      0  \n3  0.016109 -0.734220 -0.034480 -0.064786    8.04      0  \n4  0.492943 -0.750242  0.029124  0.091303  175.00      0  \n\n[5 rows x 31 columns]",
            "text/html": "<div>\n<style scoped>\n    .dataframe tbody tr th:only-of-type {\n        vertical-align: middle;\n    }\n\n    .dataframe tbody tr th {\n        vertical-align: top;\n    }\n\n    .dataframe thead th {\n        text-align: right;\n    }\n</style>\n<table border=\"1\" class=\"dataframe\">\n  <thead>\n    <tr style=\"text-align: right;\">\n      <th></th>\n      <th>Index</th>\n      <th>V1</th>\n      <th>V2</th>\n      <th>V3</th>\n      <th>V4</th>\n      <th>V5</th>\n      <th>V6</th>\n      <th>V7</th>\n      <th>V8</th>\n      <th>V9</th>\n      <th>...</th>\n      <th>V21</th>\n      <th>V22</th>\n      <th>V23</th>\n      <th>V24</th>\n      <th>V25</th>\n      <th>V26</th>\n      <th>V27</th>\n      <th>V28</th>\n      <th>Amount</th>\n      <th>Class</th>\n    </tr>\n  </thead>\n  <tbody>\n    <tr>\n      <th>0</th>\n      <td>0</td>\n      <td>2.245295</td>\n      <td>-1.160960</td>\n      <td>-1.966682</td>\n      <td>-1.430190</td>\n      <td>-0.607246</td>\n      <td>-1.508696</td>\n      <td>-0.074415</td>\n      <td>-0.655096</td>\n      <td>-1.970141</td>\n      <td>...</td>\n      <td>0.010490</td>\n      <td>0.521714</td>\n      <td>-0.064971</td>\n      <td>0.048849</td>\n      <td>0.383290</td>\n      <td>0.103970</td>\n      <td>-0.047350</td>\n      <td>-0.064800</td>\n      <td>74.75</td>\n      <td>0</td>\n    </tr>\n    <tr>\n      <th>1</th>\n      <td>1</td>\n      <td>1.278609</td>\n      <td>0.102574</td>\n      <td>0.512079</td>\n      <td>0.003930</td>\n      <td>-0.723474</td>\n      <td>-1.334105</td>\n      <td>0.029958</td>\n      <td>-0.296595</td>\n      <td>0.128119</td>\n      <td>...</td>\n      <td>-0.081470</td>\n      <td>-0.182506</td>\n      <td>0.078986</td>\n      <td>0.789993</td>\n      <td>0.219794</td>\n      <td>0.938359</td>\n      <td>-0.078720</td>\n      <td>0.008119</td>\n      <td>1.38</td>\n      <td>0</td>\n    </tr>\n    <tr>\n      <th>2</th>\n      <td>2</td>\n      <td>1.466457</td>\n      <td>0.026088</td>\n      <td>-0.499298</td>\n      <td>-0.674372</td>\n      <td>-0.144883</td>\n      <td>-1.178075</td>\n      <td>0.058089</td>\n      <td>-0.420145</td>\n      <td>-1.359651</td>\n      <td>...</td>\n      <td>-0.234087</td>\n      <td>-0.710542</td>\n      <td>-0.001242</td>\n      <td>-0.174713</td>\n      <td>0.533719</td>\n      <td>-0.454779</td>\n      <td>0.001524</td>\n      <td>0.030935</td>\n      <td>10.95</td>\n      <td>0</td>\n    </tr>\n    <tr>\n      <th>3</th>\n      <td>3</td>\n      <td>-0.922137</td>\n      <td>-0.371579</td>\n      <td>2.132018</td>\n      <td>-0.796997</td>\n      <td>0.324175</td>\n      <td>-1.162006</td>\n      <td>0.277208</td>\n      <td>-0.249586</td>\n      <td>-0.775648</td>\n      <td>...</td>\n      <td>-0.302654</td>\n      <td>-0.246899</td>\n      <td>-0.045745</td>\n      <td>0.677110</td>\n      <td>0.016109</td>\n      <td>-0.734220</td>\n      <td>-0.034480</td>\n      <td>-0.064786</td>\n      <td>8.04</td>\n      <td>0</td>\n    </tr>\n    <tr>\n      <th>4</th>\n      <td>4</td>\n      <td>-1.166525</td>\n      <td>0.255439</td>\n      <td>2.108464</td>\n      <td>0.135019</td>\n      <td>-0.072979</td>\n      <td>0.910821</td>\n      <td>0.755918</td>\n      <td>0.355528</td>\n      <td>-0.422820</td>\n      <td>...</td>\n      <td>0.136470</td>\n      <td>0.017496</td>\n      <td>0.121017</td>\n      <td>0.636266</td>\n      <td>0.492943</td>\n      <td>-0.750242</td>\n      <td>0.029124</td>\n      <td>0.091303</td>\n      <td>175.00</td>\n      <td>0</td>\n    </tr>\n  </tbody>\n</table>\n<p>5 rows × 31 columns</p>\n</div>"
          },
          "metadata": {}
        }
      ],
      "execution_count": 2,
      "metadata": {
        "collapsed": true,
        "jupyter": {
          "source_hidden": false,
          "outputs_hidden": false
        },
        "nteract": {
          "transient": {
            "deleting": false
          }
        },
        "execution": {
          "iopub.status.busy": "2020-12-20T05:42:46.435Z",
          "iopub.execute_input": "2020-12-20T05:42:46.454Z",
          "iopub.status.idle": "2020-12-20T05:42:48.829Z",
          "shell.execute_reply": "2020-12-20T05:42:48.937Z"
        }
      }
    },
    {
      "cell_type": "code",
      "source": [
        "from sklearn.preprocessing import StandardScaler\n",
        "scaler = StandardScaler()\n"
      ],
      "outputs": [],
      "execution_count": 3,
      "metadata": {
        "collapsed": true,
        "jupyter": {
          "source_hidden": false,
          "outputs_hidden": false
        },
        "nteract": {
          "transient": {
            "deleting": false
          }
        },
        "execution": {
          "iopub.status.busy": "2020-12-20T05:42:48.850Z",
          "iopub.execute_input": "2020-12-20T05:42:48.865Z",
          "shell.execute_reply": "2020-12-20T05:42:48.948Z",
          "iopub.status.idle": "2020-12-20T05:42:48.889Z"
        }
      }
    },
    {
      "cell_type": "code",
      "source": [
        "from sklearn.utils import resample\n",
        "df_majority = df[df.Class==0]\n",
        "df_minority = df[df.Class!=0]\n",
        "df_minority\n",
        " \n",
        " #Downsample majority class\n",
        "df_majority_downsampled = resample(df_majority,replace=False,n_samples=500,random_state=123) \n",
        " \n",
        "\n",
        "dataset1 = pd.concat([df_majority_downsampled, df_minority])\n",
        " \n",
        "# Display new class counts\n",
        "dataset1.Class.value_counts()\n",
        "dataset1"
      ],
      "outputs": [
        {
          "output_type": "execute_result",
          "execution_count": 4,
          "data": {
            "text/plain": "         Index         V1         V2         V3        V4         V5  \\\n5557      5557  -0.286506   1.483877   1.296656  1.830624   0.804772   \n189143  189143   0.027315  -2.962887   0.323169 -0.062928  -1.823663   \n217166  217166   1.161457   0.342126   0.596969  1.137035  -0.289921   \n44582    44582   1.935320  -0.571370  -0.875981 -0.098773   0.061064   \n152158  152158   1.119941  -0.216024   1.362047  0.959006  -1.276754   \n...        ...        ...        ...        ...       ...        ...   \n279108  279108  -1.322789   1.552768  -2.276921  2.992117  -1.947064   \n279194  279194 -18.474868  11.586381 -21.402917  6.038515 -14.451158   \n279528  279528   0.378275   3.914797  -5.726872  6.094141   1.698875   \n280854  280854  -1.201398   4.864535  -8.328823  7.652399  -0.167445   \n282522  282522  -6.677212   5.529299  -7.193275  6.081321  -1.636071   \n\n              V6         V7         V8        V9  ...       V21       V22  \\\n5557   -0.620905   1.537253  -0.533306 -1.574283  ...  0.035584  0.220838   \n189143  0.883502  -0.427193   0.174294 -0.220772  ...  0.455065  0.028891   \n217166 -0.597790   0.093898  -0.114521 -0.085083  ...  0.005647  0.107395   \n44582   0.634513  -0.573312   0.165900  0.777935  ... -0.199225 -0.619102   \n152158 -0.491515  -0.592218   0.046830  0.910009  ... -0.058449 -0.021478   \n...          ...        ...        ...       ...  ...       ...       ...   \n279108 -0.480288  -1.362388   0.953242 -2.329629  ...  0.614969 -0.195200   \n279194 -4.146524 -14.856124  12.431140 -4.053353  ...  1.741136 -1.251138   \n279528 -2.807314  -0.591118  -0.123496 -2.530713  ...  0.149896 -0.601967   \n280854 -2.767695  -3.176421   1.623279 -4.367228  ...  0.532320 -0.556913   \n282522  0.500610  -4.640770  -4.339840 -0.950036  ...  5.563301 -1.608272   \n\n             V23       V24       V25       V26       V27       V28  Amount  \\\n5557   -0.294050  0.421327  0.292934 -0.017196 -0.300206 -0.210138   20.00   \n189143 -0.591603 -0.244121  0.095391 -0.281050 -0.054412  0.121573  657.55   \n217166  0.038325  0.402180  0.449769 -0.431766  0.043762  0.027593    7.19   \n44582   0.254756 -0.334198 -0.501719  0.278271 -0.050622 -0.045397   64.00   \n152158  0.054220  0.747833  0.202373  0.294721  0.013497  0.033920   28.75   \n...          ...       ...       ...       ...       ...       ...     ...   \n279108  0.590711 -0.233378 -0.164285 -0.277498  0.428610  0.246394  270.00   \n279194 -0.396219  0.095706  1.322751 -0.217955  1.628793  0.482248   99.99   \n279528 -0.613724 -0.403114  1.568445  0.521884  0.527938  0.411910    1.00   \n280854  0.192444 -0.698588  0.025003  0.514968  0.378105 -0.053133    0.77   \n282522  0.965322  0.163718  0.047531  0.466165  0.278547  1.471988  105.89   \n\n        Class  \n5557        0  \n189143      0  \n217166      0  \n44582       0  \n152158      0  \n...       ...  \n279108      1  \n279194      1  \n279528      1  \n280854      1  \n282522      1  \n\n[940 rows x 31 columns]",
            "text/html": "<div>\n<style scoped>\n    .dataframe tbody tr th:only-of-type {\n        vertical-align: middle;\n    }\n\n    .dataframe tbody tr th {\n        vertical-align: top;\n    }\n\n    .dataframe thead th {\n        text-align: right;\n    }\n</style>\n<table border=\"1\" class=\"dataframe\">\n  <thead>\n    <tr style=\"text-align: right;\">\n      <th></th>\n      <th>Index</th>\n      <th>V1</th>\n      <th>V2</th>\n      <th>V3</th>\n      <th>V4</th>\n      <th>V5</th>\n      <th>V6</th>\n      <th>V7</th>\n      <th>V8</th>\n      <th>V9</th>\n      <th>...</th>\n      <th>V21</th>\n      <th>V22</th>\n      <th>V23</th>\n      <th>V24</th>\n      <th>V25</th>\n      <th>V26</th>\n      <th>V27</th>\n      <th>V28</th>\n      <th>Amount</th>\n      <th>Class</th>\n    </tr>\n  </thead>\n  <tbody>\n    <tr>\n      <th>5557</th>\n      <td>5557</td>\n      <td>-0.286506</td>\n      <td>1.483877</td>\n      <td>1.296656</td>\n      <td>1.830624</td>\n      <td>0.804772</td>\n      <td>-0.620905</td>\n      <td>1.537253</td>\n      <td>-0.533306</td>\n      <td>-1.574283</td>\n      <td>...</td>\n      <td>0.035584</td>\n      <td>0.220838</td>\n      <td>-0.294050</td>\n      <td>0.421327</td>\n      <td>0.292934</td>\n      <td>-0.017196</td>\n      <td>-0.300206</td>\n      <td>-0.210138</td>\n      <td>20.00</td>\n      <td>0</td>\n    </tr>\n    <tr>\n      <th>189143</th>\n      <td>189143</td>\n      <td>0.027315</td>\n      <td>-2.962887</td>\n      <td>0.323169</td>\n      <td>-0.062928</td>\n      <td>-1.823663</td>\n      <td>0.883502</td>\n      <td>-0.427193</td>\n      <td>0.174294</td>\n      <td>-0.220772</td>\n      <td>...</td>\n      <td>0.455065</td>\n      <td>0.028891</td>\n      <td>-0.591603</td>\n      <td>-0.244121</td>\n      <td>0.095391</td>\n      <td>-0.281050</td>\n      <td>-0.054412</td>\n      <td>0.121573</td>\n      <td>657.55</td>\n      <td>0</td>\n    </tr>\n    <tr>\n      <th>217166</th>\n      <td>217166</td>\n      <td>1.161457</td>\n      <td>0.342126</td>\n      <td>0.596969</td>\n      <td>1.137035</td>\n      <td>-0.289921</td>\n      <td>-0.597790</td>\n      <td>0.093898</td>\n      <td>-0.114521</td>\n      <td>-0.085083</td>\n      <td>...</td>\n      <td>0.005647</td>\n      <td>0.107395</td>\n      <td>0.038325</td>\n      <td>0.402180</td>\n      <td>0.449769</td>\n      <td>-0.431766</td>\n      <td>0.043762</td>\n      <td>0.027593</td>\n      <td>7.19</td>\n      <td>0</td>\n    </tr>\n    <tr>\n      <th>44582</th>\n      <td>44582</td>\n      <td>1.935320</td>\n      <td>-0.571370</td>\n      <td>-0.875981</td>\n      <td>-0.098773</td>\n      <td>0.061064</td>\n      <td>0.634513</td>\n      <td>-0.573312</td>\n      <td>0.165900</td>\n      <td>0.777935</td>\n      <td>...</td>\n      <td>-0.199225</td>\n      <td>-0.619102</td>\n      <td>0.254756</td>\n      <td>-0.334198</td>\n      <td>-0.501719</td>\n      <td>0.278271</td>\n      <td>-0.050622</td>\n      <td>-0.045397</td>\n      <td>64.00</td>\n      <td>0</td>\n    </tr>\n    <tr>\n      <th>152158</th>\n      <td>152158</td>\n      <td>1.119941</td>\n      <td>-0.216024</td>\n      <td>1.362047</td>\n      <td>0.959006</td>\n      <td>-1.276754</td>\n      <td>-0.491515</td>\n      <td>-0.592218</td>\n      <td>0.046830</td>\n      <td>0.910009</td>\n      <td>...</td>\n      <td>-0.058449</td>\n      <td>-0.021478</td>\n      <td>0.054220</td>\n      <td>0.747833</td>\n      <td>0.202373</td>\n      <td>0.294721</td>\n      <td>0.013497</td>\n      <td>0.033920</td>\n      <td>28.75</td>\n      <td>0</td>\n    </tr>\n    <tr>\n      <th>...</th>\n      <td>...</td>\n      <td>...</td>\n      <td>...</td>\n      <td>...</td>\n      <td>...</td>\n      <td>...</td>\n      <td>...</td>\n      <td>...</td>\n      <td>...</td>\n      <td>...</td>\n      <td>...</td>\n      <td>...</td>\n      <td>...</td>\n      <td>...</td>\n      <td>...</td>\n      <td>...</td>\n      <td>...</td>\n      <td>...</td>\n      <td>...</td>\n      <td>...</td>\n      <td>...</td>\n    </tr>\n    <tr>\n      <th>279108</th>\n      <td>279108</td>\n      <td>-1.322789</td>\n      <td>1.552768</td>\n      <td>-2.276921</td>\n      <td>2.992117</td>\n      <td>-1.947064</td>\n      <td>-0.480288</td>\n      <td>-1.362388</td>\n      <td>0.953242</td>\n      <td>-2.329629</td>\n      <td>...</td>\n      <td>0.614969</td>\n      <td>-0.195200</td>\n      <td>0.590711</td>\n      <td>-0.233378</td>\n      <td>-0.164285</td>\n      <td>-0.277498</td>\n      <td>0.428610</td>\n      <td>0.246394</td>\n      <td>270.00</td>\n      <td>1</td>\n    </tr>\n    <tr>\n      <th>279194</th>\n      <td>279194</td>\n      <td>-18.474868</td>\n      <td>11.586381</td>\n      <td>-21.402917</td>\n      <td>6.038515</td>\n      <td>-14.451158</td>\n      <td>-4.146524</td>\n      <td>-14.856124</td>\n      <td>12.431140</td>\n      <td>-4.053353</td>\n      <td>...</td>\n      <td>1.741136</td>\n      <td>-1.251138</td>\n      <td>-0.396219</td>\n      <td>0.095706</td>\n      <td>1.322751</td>\n      <td>-0.217955</td>\n      <td>1.628793</td>\n      <td>0.482248</td>\n      <td>99.99</td>\n      <td>1</td>\n    </tr>\n    <tr>\n      <th>279528</th>\n      <td>279528</td>\n      <td>0.378275</td>\n      <td>3.914797</td>\n      <td>-5.726872</td>\n      <td>6.094141</td>\n      <td>1.698875</td>\n      <td>-2.807314</td>\n      <td>-0.591118</td>\n      <td>-0.123496</td>\n      <td>-2.530713</td>\n      <td>...</td>\n      <td>0.149896</td>\n      <td>-0.601967</td>\n      <td>-0.613724</td>\n      <td>-0.403114</td>\n      <td>1.568445</td>\n      <td>0.521884</td>\n      <td>0.527938</td>\n      <td>0.411910</td>\n      <td>1.00</td>\n      <td>1</td>\n    </tr>\n    <tr>\n      <th>280854</th>\n      <td>280854</td>\n      <td>-1.201398</td>\n      <td>4.864535</td>\n      <td>-8.328823</td>\n      <td>7.652399</td>\n      <td>-0.167445</td>\n      <td>-2.767695</td>\n      <td>-3.176421</td>\n      <td>1.623279</td>\n      <td>-4.367228</td>\n      <td>...</td>\n      <td>0.532320</td>\n      <td>-0.556913</td>\n      <td>0.192444</td>\n      <td>-0.698588</td>\n      <td>0.025003</td>\n      <td>0.514968</td>\n      <td>0.378105</td>\n      <td>-0.053133</td>\n      <td>0.77</td>\n      <td>1</td>\n    </tr>\n    <tr>\n      <th>282522</th>\n      <td>282522</td>\n      <td>-6.677212</td>\n      <td>5.529299</td>\n      <td>-7.193275</td>\n      <td>6.081321</td>\n      <td>-1.636071</td>\n      <td>0.500610</td>\n      <td>-4.640770</td>\n      <td>-4.339840</td>\n      <td>-0.950036</td>\n      <td>...</td>\n      <td>5.563301</td>\n      <td>-1.608272</td>\n      <td>0.965322</td>\n      <td>0.163718</td>\n      <td>0.047531</td>\n      <td>0.466165</td>\n      <td>0.278547</td>\n      <td>1.471988</td>\n      <td>105.89</td>\n      <td>1</td>\n    </tr>\n  </tbody>\n</table>\n<p>940 rows × 31 columns</p>\n</div>"
          },
          "metadata": {}
        }
      ],
      "execution_count": 4,
      "metadata": {
        "collapsed": true,
        "jupyter": {
          "source_hidden": false,
          "outputs_hidden": false
        },
        "nteract": {
          "transient": {
            "deleting": false
          }
        },
        "execution": {
          "iopub.status.busy": "2020-12-20T05:42:51.597Z",
          "iopub.execute_input": "2020-12-20T05:42:51.635Z",
          "iopub.status.idle": "2020-12-20T05:42:51.710Z",
          "shell.execute_reply": "2020-12-20T05:42:51.776Z"
        }
      }
    },
    {
      "cell_type": "code",
      "source": [
        "inputs=dataset1.drop([\"Index\",\"Class\"],axis=\"columns\")\n",
        "target=dataset1[\"Class\"]\n",
        "inputs"
      ],
      "outputs": [
        {
          "output_type": "execute_result",
          "execution_count": 5,
          "data": {
            "text/plain": "               V1         V2         V3        V4         V5        V6  \\\n5557    -0.286506   1.483877   1.296656  1.830624   0.804772 -0.620905   \n189143   0.027315  -2.962887   0.323169 -0.062928  -1.823663  0.883502   \n217166   1.161457   0.342126   0.596969  1.137035  -0.289921 -0.597790   \n44582    1.935320  -0.571370  -0.875981 -0.098773   0.061064  0.634513   \n152158   1.119941  -0.216024   1.362047  0.959006  -1.276754 -0.491515   \n...           ...        ...        ...       ...        ...       ...   \n279108  -1.322789   1.552768  -2.276921  2.992117  -1.947064 -0.480288   \n279194 -18.474868  11.586381 -21.402917  6.038515 -14.451158 -4.146524   \n279528   0.378275   3.914797  -5.726872  6.094141   1.698875 -2.807314   \n280854  -1.201398   4.864535  -8.328823  7.652399  -0.167445 -2.767695   \n282522  -6.677212   5.529299  -7.193275  6.081321  -1.636071  0.500610   \n\n               V7         V8        V9       V10  ...       V20       V21  \\\n5557     1.537253  -0.533306 -1.574283  0.585061  ...  0.020316  0.035584   \n189143  -0.427193   0.174294 -0.220772  0.197776  ...  1.373300  0.455065   \n217166   0.093898  -0.114521 -0.085083 -0.071066  ... -0.128026  0.005647   \n44582   -0.573312   0.165900  0.777935  0.111132  ...  0.046221 -0.199225   \n152158  -0.592218   0.046830  0.910009 -0.249010  ... -0.072864 -0.058449   \n...           ...        ...       ...       ...  ...       ...       ...   \n279108  -1.362388   0.953242 -2.329629 -3.393553  ...  0.988493  0.614969   \n279194 -14.856124  12.431140 -4.053353 -9.040396  ...  1.577924  1.741136   \n279528  -0.591118  -0.123496 -2.530713 -5.153095  ...  0.440439  0.149896   \n280854  -3.176421   1.623279 -4.367228 -5.533443  ...  0.597026  0.532320   \n282522  -4.640770  -4.339840 -0.950036  0.566680  ... -1.118687  5.563301   \n\n             V22       V23       V24       V25       V26       V27       V28  \\\n5557    0.220838 -0.294050  0.421327  0.292934 -0.017196 -0.300206 -0.210138   \n189143  0.028891 -0.591603 -0.244121  0.095391 -0.281050 -0.054412  0.121573   \n217166  0.107395  0.038325  0.402180  0.449769 -0.431766  0.043762  0.027593   \n44582  -0.619102  0.254756 -0.334198 -0.501719  0.278271 -0.050622 -0.045397   \n152158 -0.021478  0.054220  0.747833  0.202373  0.294721  0.013497  0.033920   \n...          ...       ...       ...       ...       ...       ...       ...   \n279108 -0.195200  0.590711 -0.233378 -0.164285 -0.277498  0.428610  0.246394   \n279194 -1.251138 -0.396219  0.095706  1.322751 -0.217955  1.628793  0.482248   \n279528 -0.601967 -0.613724 -0.403114  1.568445  0.521884  0.527938  0.411910   \n280854 -0.556913  0.192444 -0.698588  0.025003  0.514968  0.378105 -0.053133   \n282522 -1.608272  0.965322  0.163718  0.047531  0.466165  0.278547  1.471988   \n\n        Amount  \n5557     20.00  \n189143  657.55  \n217166    7.19  \n44582    64.00  \n152158   28.75  \n...        ...  \n279108  270.00  \n279194   99.99  \n279528    1.00  \n280854    0.77  \n282522  105.89  \n\n[940 rows x 29 columns]",
            "text/html": "<div>\n<style scoped>\n    .dataframe tbody tr th:only-of-type {\n        vertical-align: middle;\n    }\n\n    .dataframe tbody tr th {\n        vertical-align: top;\n    }\n\n    .dataframe thead th {\n        text-align: right;\n    }\n</style>\n<table border=\"1\" class=\"dataframe\">\n  <thead>\n    <tr style=\"text-align: right;\">\n      <th></th>\n      <th>V1</th>\n      <th>V2</th>\n      <th>V3</th>\n      <th>V4</th>\n      <th>V5</th>\n      <th>V6</th>\n      <th>V7</th>\n      <th>V8</th>\n      <th>V9</th>\n      <th>V10</th>\n      <th>...</th>\n      <th>V20</th>\n      <th>V21</th>\n      <th>V22</th>\n      <th>V23</th>\n      <th>V24</th>\n      <th>V25</th>\n      <th>V26</th>\n      <th>V27</th>\n      <th>V28</th>\n      <th>Amount</th>\n    </tr>\n  </thead>\n  <tbody>\n    <tr>\n      <th>5557</th>\n      <td>-0.286506</td>\n      <td>1.483877</td>\n      <td>1.296656</td>\n      <td>1.830624</td>\n      <td>0.804772</td>\n      <td>-0.620905</td>\n      <td>1.537253</td>\n      <td>-0.533306</td>\n      <td>-1.574283</td>\n      <td>0.585061</td>\n      <td>...</td>\n      <td>0.020316</td>\n      <td>0.035584</td>\n      <td>0.220838</td>\n      <td>-0.294050</td>\n      <td>0.421327</td>\n      <td>0.292934</td>\n      <td>-0.017196</td>\n      <td>-0.300206</td>\n      <td>-0.210138</td>\n      <td>20.00</td>\n    </tr>\n    <tr>\n      <th>189143</th>\n      <td>0.027315</td>\n      <td>-2.962887</td>\n      <td>0.323169</td>\n      <td>-0.062928</td>\n      <td>-1.823663</td>\n      <td>0.883502</td>\n      <td>-0.427193</td>\n      <td>0.174294</td>\n      <td>-0.220772</td>\n      <td>0.197776</td>\n      <td>...</td>\n      <td>1.373300</td>\n      <td>0.455065</td>\n      <td>0.028891</td>\n      <td>-0.591603</td>\n      <td>-0.244121</td>\n      <td>0.095391</td>\n      <td>-0.281050</td>\n      <td>-0.054412</td>\n      <td>0.121573</td>\n      <td>657.55</td>\n    </tr>\n    <tr>\n      <th>217166</th>\n      <td>1.161457</td>\n      <td>0.342126</td>\n      <td>0.596969</td>\n      <td>1.137035</td>\n      <td>-0.289921</td>\n      <td>-0.597790</td>\n      <td>0.093898</td>\n      <td>-0.114521</td>\n      <td>-0.085083</td>\n      <td>-0.071066</td>\n      <td>...</td>\n      <td>-0.128026</td>\n      <td>0.005647</td>\n      <td>0.107395</td>\n      <td>0.038325</td>\n      <td>0.402180</td>\n      <td>0.449769</td>\n      <td>-0.431766</td>\n      <td>0.043762</td>\n      <td>0.027593</td>\n      <td>7.19</td>\n    </tr>\n    <tr>\n      <th>44582</th>\n      <td>1.935320</td>\n      <td>-0.571370</td>\n      <td>-0.875981</td>\n      <td>-0.098773</td>\n      <td>0.061064</td>\n      <td>0.634513</td>\n      <td>-0.573312</td>\n      <td>0.165900</td>\n      <td>0.777935</td>\n      <td>0.111132</td>\n      <td>...</td>\n      <td>0.046221</td>\n      <td>-0.199225</td>\n      <td>-0.619102</td>\n      <td>0.254756</td>\n      <td>-0.334198</td>\n      <td>-0.501719</td>\n      <td>0.278271</td>\n      <td>-0.050622</td>\n      <td>-0.045397</td>\n      <td>64.00</td>\n    </tr>\n    <tr>\n      <th>152158</th>\n      <td>1.119941</td>\n      <td>-0.216024</td>\n      <td>1.362047</td>\n      <td>0.959006</td>\n      <td>-1.276754</td>\n      <td>-0.491515</td>\n      <td>-0.592218</td>\n      <td>0.046830</td>\n      <td>0.910009</td>\n      <td>-0.249010</td>\n      <td>...</td>\n      <td>-0.072864</td>\n      <td>-0.058449</td>\n      <td>-0.021478</td>\n      <td>0.054220</td>\n      <td>0.747833</td>\n      <td>0.202373</td>\n      <td>0.294721</td>\n      <td>0.013497</td>\n      <td>0.033920</td>\n      <td>28.75</td>\n    </tr>\n    <tr>\n      <th>...</th>\n      <td>...</td>\n      <td>...</td>\n      <td>...</td>\n      <td>...</td>\n      <td>...</td>\n      <td>...</td>\n      <td>...</td>\n      <td>...</td>\n      <td>...</td>\n      <td>...</td>\n      <td>...</td>\n      <td>...</td>\n      <td>...</td>\n      <td>...</td>\n      <td>...</td>\n      <td>...</td>\n      <td>...</td>\n      <td>...</td>\n      <td>...</td>\n      <td>...</td>\n      <td>...</td>\n    </tr>\n    <tr>\n      <th>279108</th>\n      <td>-1.322789</td>\n      <td>1.552768</td>\n      <td>-2.276921</td>\n      <td>2.992117</td>\n      <td>-1.947064</td>\n      <td>-0.480288</td>\n      <td>-1.362388</td>\n      <td>0.953242</td>\n      <td>-2.329629</td>\n      <td>-3.393553</td>\n      <td>...</td>\n      <td>0.988493</td>\n      <td>0.614969</td>\n      <td>-0.195200</td>\n      <td>0.590711</td>\n      <td>-0.233378</td>\n      <td>-0.164285</td>\n      <td>-0.277498</td>\n      <td>0.428610</td>\n      <td>0.246394</td>\n      <td>270.00</td>\n    </tr>\n    <tr>\n      <th>279194</th>\n      <td>-18.474868</td>\n      <td>11.586381</td>\n      <td>-21.402917</td>\n      <td>6.038515</td>\n      <td>-14.451158</td>\n      <td>-4.146524</td>\n      <td>-14.856124</td>\n      <td>12.431140</td>\n      <td>-4.053353</td>\n      <td>-9.040396</td>\n      <td>...</td>\n      <td>1.577924</td>\n      <td>1.741136</td>\n      <td>-1.251138</td>\n      <td>-0.396219</td>\n      <td>0.095706</td>\n      <td>1.322751</td>\n      <td>-0.217955</td>\n      <td>1.628793</td>\n      <td>0.482248</td>\n      <td>99.99</td>\n    </tr>\n    <tr>\n      <th>279528</th>\n      <td>0.378275</td>\n      <td>3.914797</td>\n      <td>-5.726872</td>\n      <td>6.094141</td>\n      <td>1.698875</td>\n      <td>-2.807314</td>\n      <td>-0.591118</td>\n      <td>-0.123496</td>\n      <td>-2.530713</td>\n      <td>-5.153095</td>\n      <td>...</td>\n      <td>0.440439</td>\n      <td>0.149896</td>\n      <td>-0.601967</td>\n      <td>-0.613724</td>\n      <td>-0.403114</td>\n      <td>1.568445</td>\n      <td>0.521884</td>\n      <td>0.527938</td>\n      <td>0.411910</td>\n      <td>1.00</td>\n    </tr>\n    <tr>\n      <th>280854</th>\n      <td>-1.201398</td>\n      <td>4.864535</td>\n      <td>-8.328823</td>\n      <td>7.652399</td>\n      <td>-0.167445</td>\n      <td>-2.767695</td>\n      <td>-3.176421</td>\n      <td>1.623279</td>\n      <td>-4.367228</td>\n      <td>-5.533443</td>\n      <td>...</td>\n      <td>0.597026</td>\n      <td>0.532320</td>\n      <td>-0.556913</td>\n      <td>0.192444</td>\n      <td>-0.698588</td>\n      <td>0.025003</td>\n      <td>0.514968</td>\n      <td>0.378105</td>\n      <td>-0.053133</td>\n      <td>0.77</td>\n    </tr>\n    <tr>\n      <th>282522</th>\n      <td>-6.677212</td>\n      <td>5.529299</td>\n      <td>-7.193275</td>\n      <td>6.081321</td>\n      <td>-1.636071</td>\n      <td>0.500610</td>\n      <td>-4.640770</td>\n      <td>-4.339840</td>\n      <td>-0.950036</td>\n      <td>0.566680</td>\n      <td>...</td>\n      <td>-1.118687</td>\n      <td>5.563301</td>\n      <td>-1.608272</td>\n      <td>0.965322</td>\n      <td>0.163718</td>\n      <td>0.047531</td>\n      <td>0.466165</td>\n      <td>0.278547</td>\n      <td>1.471988</td>\n      <td>105.89</td>\n    </tr>\n  </tbody>\n</table>\n<p>940 rows × 29 columns</p>\n</div>"
          },
          "metadata": {}
        }
      ],
      "execution_count": 5,
      "metadata": {
        "collapsed": true,
        "jupyter": {
          "source_hidden": false,
          "outputs_hidden": false
        },
        "nteract": {
          "transient": {
            "deleting": false
          }
        },
        "execution": {
          "iopub.status.busy": "2020-12-20T05:42:55.002Z",
          "iopub.execute_input": "2020-12-20T05:42:55.020Z",
          "iopub.status.idle": "2020-12-20T05:42:55.063Z",
          "shell.execute_reply": "2020-12-20T05:42:55.188Z"
        }
      }
    },
    {
      "cell_type": "code",
      "source": [
        "from sklearn.model_selection import train_test_split\n",
        "X_train,X_test,y_train,y_test=train_test_split(inputs,target,test_size=0.2)\n",
        "dataset=pd.concat([X_train,y_train ], axis=1, sort=False)"
      ],
      "outputs": [],
      "execution_count": 6,
      "metadata": {
        "collapsed": true,
        "jupyter": {
          "source_hidden": false,
          "outputs_hidden": false
        },
        "nteract": {
          "transient": {
            "deleting": false
          }
        },
        "execution": {
          "iopub.status.busy": "2020-12-20T05:42:57.380Z",
          "iopub.execute_input": "2020-12-20T05:42:57.414Z",
          "iopub.status.idle": "2020-12-20T05:42:57.440Z",
          "shell.execute_reply": "2020-12-20T05:42:57.460Z"
        }
      }
    },
    {
      "cell_type": "code",
      "source": [
        "from sklearn.preprocessing import StandardScaler\n",
        "scaler = StandardScaler() \n",
        "x_train = scaler.fit_transform(X_train) \n",
        "x_test = scaler.transform(X_test)"
      ],
      "outputs": [],
      "execution_count": 7,
      "metadata": {
        "collapsed": true,
        "jupyter": {
          "source_hidden": false,
          "outputs_hidden": false
        },
        "nteract": {
          "transient": {
            "deleting": false
          }
        },
        "execution": {
          "iopub.status.busy": "2020-12-20T05:42:59.418Z",
          "iopub.execute_input": "2020-12-20T05:42:59.456Z",
          "iopub.status.idle": "2020-12-20T05:42:59.499Z",
          "shell.execute_reply": "2020-12-20T05:42:59.530Z"
        }
      }
    },
    {
      "cell_type": "code",
      "source": [
        "from sklearn.ensemble import GradientBoostingClassifier"
      ],
      "outputs": [],
      "execution_count": 8,
      "metadata": {
        "collapsed": true,
        "jupyter": {
          "source_hidden": false,
          "outputs_hidden": false
        },
        "nteract": {
          "transient": {
            "deleting": false
          }
        },
        "execution": {
          "iopub.status.busy": "2020-12-20T05:43:00.879Z",
          "iopub.execute_input": "2020-12-20T05:43:00.920Z",
          "iopub.status.idle": "2020-12-20T05:43:01.174Z",
          "shell.execute_reply": "2020-12-20T05:43:01.191Z"
        }
      }
    },
    {
      "cell_type": "code",
      "source": [
        "model1=GradientBoostingClassifier(n_estimators=1000,max_depth=12,learning_rate=0.2)\n",
        "#2"
      ],
      "outputs": [],
      "execution_count": 9,
      "metadata": {
        "collapsed": true,
        "jupyter": {
          "source_hidden": false,
          "outputs_hidden": false
        },
        "nteract": {
          "transient": {
            "deleting": false
          }
        },
        "execution": {
          "iopub.status.busy": "2020-12-20T05:43:02.860Z",
          "iopub.execute_input": "2020-12-20T05:43:02.886Z",
          "iopub.status.idle": "2020-12-20T05:43:02.925Z",
          "shell.execute_reply": "2020-12-20T05:43:02.953Z"
        }
      }
    },
    {
      "cell_type": "code",
      "source": [],
      "outputs": [],
      "execution_count": 10,
      "metadata": {
        "collapsed": true,
        "jupyter": {
          "source_hidden": false,
          "outputs_hidden": false
        },
        "nteract": {
          "transient": {
            "deleting": false
          }
        },
        "execution": {
          "iopub.status.busy": "2020-12-20T05:43:04.974Z",
          "iopub.execute_input": "2020-12-20T05:43:05.013Z",
          "iopub.status.idle": "2020-12-20T05:43:05.051Z",
          "shell.execute_reply": "2020-12-20T05:43:05.079Z"
        }
      }
    },
    {
      "cell_type": "code",
      "source": [],
      "outputs": [],
      "execution_count": 11,
      "metadata": {
        "collapsed": true,
        "jupyter": {
          "source_hidden": false,
          "outputs_hidden": false
        },
        "nteract": {
          "transient": {
            "deleting": false
          }
        },
        "execution": {
          "iopub.status.busy": "2020-12-20T05:43:06.896Z",
          "iopub.execute_input": "2020-12-20T05:43:06.943Z",
          "iopub.status.idle": "2020-12-20T05:43:06.984Z",
          "shell.execute_reply": "2020-12-20T05:43:07.001Z"
        }
      }
    },
    {
      "cell_type": "code",
      "source": [
        "model1.fit(x_train,y_train)\n"
      ],
      "outputs": [
        {
          "output_type": "execute_result",
          "execution_count": 12,
          "data": {
            "text/plain": "GradientBoostingClassifier(learning_rate=0.2, max_depth=12, n_estimators=1000)"
          },
          "metadata": {}
        }
      ],
      "execution_count": 12,
      "metadata": {
        "collapsed": true,
        "jupyter": {
          "source_hidden": false,
          "outputs_hidden": false
        },
        "nteract": {
          "transient": {
            "deleting": false
          }
        },
        "execution": {
          "iopub.status.busy": "2020-12-20T05:43:10.310Z",
          "iopub.execute_input": "2020-12-20T05:43:10.329Z",
          "iopub.status.idle": "2020-12-20T05:43:24.690Z",
          "shell.execute_reply": "2020-12-20T05:43:24.723Z"
        }
      }
    },
    {
      "cell_type": "code",
      "source": [],
      "outputs": [
        {
          "output_type": "execute_result",
          "execution_count": 13,
          "data": {
            "text/plain": "RandomForestRegressor(n_estimators=1000, random_state=42)"
          },
          "metadata": {}
        }
      ],
      "execution_count": 13,
      "metadata": {
        "collapsed": true,
        "jupyter": {
          "source_hidden": false,
          "outputs_hidden": false
        },
        "nteract": {
          "transient": {
            "deleting": false
          }
        },
        "execution": {
          "iopub.status.busy": "2020-12-20T05:43:24.759Z",
          "iopub.execute_input": "2020-12-20T05:43:24.807Z",
          "iopub.status.idle": "2020-12-20T05:43:33.443Z",
          "shell.execute_reply": "2020-12-20T05:43:33.538Z"
        }
      }
    },
    {
      "cell_type": "code",
      "source": [],
      "outputs": [
        {
          "output_type": "execute_result",
          "execution_count": 14,
          "data": {
            "text/plain": "RandomForestClassifier(n_estimators=200)"
          },
          "metadata": {}
        }
      ],
      "execution_count": 14,
      "metadata": {
        "collapsed": true,
        "jupyter": {
          "source_hidden": false,
          "outputs_hidden": false
        },
        "nteract": {
          "transient": {
            "deleting": false
          }
        },
        "execution": {
          "iopub.status.busy": "2020-12-20T05:43:33.478Z",
          "iopub.execute_input": "2020-12-20T05:43:33.499Z",
          "shell.execute_reply": "2020-12-20T05:43:34.827Z",
          "iopub.status.idle": "2020-12-20T05:43:34.196Z"
        }
      }
    },
    {
      "cell_type": "code",
      "source": [
        "model1.score(x_test,y_test)"
      ],
      "outputs": [
        {
          "output_type": "execute_result",
          "execution_count": 15,
          "data": {
            "text/plain": "0.9095744680851063"
          },
          "metadata": {}
        }
      ],
      "execution_count": 15,
      "metadata": {
        "collapsed": true,
        "jupyter": {
          "source_hidden": false,
          "outputs_hidden": false
        },
        "nteract": {
          "transient": {
            "deleting": false
          }
        },
        "execution": {
          "iopub.status.busy": "2020-12-20T05:43:34.226Z",
          "iopub.execute_input": "2020-12-20T05:43:34.254Z",
          "iopub.status.idle": "2020-12-20T05:43:34.293Z",
          "shell.execute_reply": "2020-12-20T05:43:34.839Z"
        }
      }
    },
    {
      "cell_type": "code",
      "source": [],
      "outputs": [
        {
          "output_type": "execute_result",
          "execution_count": 16,
          "data": {
            "text/plain": "0.8197185766221814"
          },
          "metadata": {}
        }
      ],
      "execution_count": 16,
      "metadata": {
        "collapsed": true,
        "jupyter": {
          "source_hidden": false,
          "outputs_hidden": false
        },
        "nteract": {
          "transient": {
            "deleting": false
          }
        },
        "execution": {
          "iopub.status.busy": "2020-12-20T05:43:34.319Z",
          "iopub.execute_input": "2020-12-20T05:43:34.339Z",
          "iopub.status.idle": "2020-12-20T05:43:34.373Z",
          "shell.execute_reply": "2020-12-20T05:43:34.847Z"
        }
      }
    },
    {
      "cell_type": "code",
      "source": [],
      "outputs": [
        {
          "output_type": "execute_result",
          "execution_count": 17,
          "data": {
            "text/plain": "0.9414893617021277"
          },
          "metadata": {}
        }
      ],
      "execution_count": 17,
      "metadata": {
        "collapsed": true,
        "jupyter": {
          "source_hidden": false,
          "outputs_hidden": false
        },
        "nteract": {
          "transient": {
            "deleting": false
          }
        },
        "execution": {
          "iopub.status.busy": "2020-12-20T05:43:34.400Z",
          "iopub.execute_input": "2020-12-20T05:43:34.415Z",
          "iopub.status.idle": "2020-12-20T05:43:34.450Z",
          "shell.execute_reply": "2020-12-20T05:43:34.857Z"
        }
      }
    },
    {
      "cell_type": "code",
      "source": [
        "inputs1=df.drop([\"Index\",\"Class\"],axis=\"columns\")\n",
        "target1=df[\"Class\"]\n",
        "inputs1"
      ],
      "outputs": [
        {
          "output_type": "execute_result",
          "execution_count": 18,
          "data": {
            "text/plain": "              V1        V2        V3        V4        V5        V6        V7  \\\n0       2.245295 -1.160960 -1.966682 -1.430190 -0.607246 -1.508696 -0.074415   \n1       1.278609  0.102574  0.512079  0.003930 -0.723474 -1.334105  0.029958   \n2       1.466457  0.026088 -0.499298 -0.674372 -0.144883 -1.178075  0.058089   \n3      -0.922137 -0.371579  2.132018 -0.796997  0.324175 -1.162006  0.277208   \n4      -1.166525  0.255439  2.108464  0.135019 -0.072979  0.910821  0.755918   \n...          ...       ...       ...       ...       ...       ...       ...   \n284450  1.216221  0.095995  0.666817  1.850616 -0.516269 -0.267296 -0.183114   \n284451  1.429502 -0.990271 -0.224429 -1.808740  0.770788  3.730989 -1.914212   \n284452  2.041198 -0.218276 -1.405547  0.187570  0.001916 -0.781668 -0.043787   \n284453  1.857451  0.071823 -0.086963  3.553877  0.082026  1.245277 -0.788886   \n284454 -0.684651  1.031745  0.693707  0.966796  0.297916  1.261476 -0.125550   \n\n              V8        V9       V10  ...       V20       V21       V22  \\\n0      -0.655096 -1.970141  1.607283  ... -0.292081  0.010490  0.521714   \n1      -0.296595  0.128119 -0.209865  ... -0.040015 -0.081470 -0.182506   \n2      -0.420145 -1.359651  0.210249  ...  0.207653 -0.234087 -0.710542   \n3      -0.249586 -0.775648 -0.061757  ... -0.461062 -0.302654 -0.246899   \n4       0.355528 -0.422820 -0.842826  ...  0.353355  0.136470  0.017496   \n...          ...       ...       ...  ...       ...       ...       ...   \n284450 -0.104976 -1.985790  1.442988  ... -0.528517 -0.286826 -0.347838   \n284451  1.036385 -0.316971  0.646103  ...  0.206332  0.376136  0.928723   \n284452 -0.090115  0.677407  0.227002  ... -0.348353  0.273900  0.844092   \n284453  0.467363 -0.271086  1.574760  ... -0.306389  0.170106  0.451313   \n284454  0.887185 -0.256040 -0.156763  ...  0.027695  0.042087  0.333864   \n\n             V23       V24       V25       V26       V27       V28  Amount  \n0      -0.064971  0.048849  0.383290  0.103970 -0.047350 -0.064800   74.75  \n1       0.078986  0.789993  0.219794  0.938359 -0.078720  0.008119    1.38  \n2      -0.001242 -0.174713  0.533719 -0.454779  0.001524  0.030935   10.95  \n3      -0.045745  0.677110  0.016109 -0.734220 -0.034480 -0.064786    8.04  \n4       0.121017  0.636266  0.492943 -0.750242  0.029124  0.091303  175.00  \n...          ...       ...       ...       ...       ...       ...     ...  \n284450  0.072935  0.367923  0.358108  0.044019  0.027223  0.028017   19.46  \n284451 -0.108174  1.048922  0.481214 -0.026342  0.062900  0.024639    0.02  \n284452 -0.023770 -0.407890  0.190140 -0.089576 -0.029237 -0.075626    1.00  \n284453  0.157898  0.129330 -0.228721  0.012281 -0.003598 -0.041590   11.31  \n284454 -0.259636 -1.304181 -0.035003 -0.099278  0.318439  0.128356   14.95  \n\n[284455 rows x 29 columns]",
            "text/html": "<div>\n<style scoped>\n    .dataframe tbody tr th:only-of-type {\n        vertical-align: middle;\n    }\n\n    .dataframe tbody tr th {\n        vertical-align: top;\n    }\n\n    .dataframe thead th {\n        text-align: right;\n    }\n</style>\n<table border=\"1\" class=\"dataframe\">\n  <thead>\n    <tr style=\"text-align: right;\">\n      <th></th>\n      <th>V1</th>\n      <th>V2</th>\n      <th>V3</th>\n      <th>V4</th>\n      <th>V5</th>\n      <th>V6</th>\n      <th>V7</th>\n      <th>V8</th>\n      <th>V9</th>\n      <th>V10</th>\n      <th>...</th>\n      <th>V20</th>\n      <th>V21</th>\n      <th>V22</th>\n      <th>V23</th>\n      <th>V24</th>\n      <th>V25</th>\n      <th>V26</th>\n      <th>V27</th>\n      <th>V28</th>\n      <th>Amount</th>\n    </tr>\n  </thead>\n  <tbody>\n    <tr>\n      <th>0</th>\n      <td>2.245295</td>\n      <td>-1.160960</td>\n      <td>-1.966682</td>\n      <td>-1.430190</td>\n      <td>-0.607246</td>\n      <td>-1.508696</td>\n      <td>-0.074415</td>\n      <td>-0.655096</td>\n      <td>-1.970141</td>\n      <td>1.607283</td>\n      <td>...</td>\n      <td>-0.292081</td>\n      <td>0.010490</td>\n      <td>0.521714</td>\n      <td>-0.064971</td>\n      <td>0.048849</td>\n      <td>0.383290</td>\n      <td>0.103970</td>\n      <td>-0.047350</td>\n      <td>-0.064800</td>\n      <td>74.75</td>\n    </tr>\n    <tr>\n      <th>1</th>\n      <td>1.278609</td>\n      <td>0.102574</td>\n      <td>0.512079</td>\n      <td>0.003930</td>\n      <td>-0.723474</td>\n      <td>-1.334105</td>\n      <td>0.029958</td>\n      <td>-0.296595</td>\n      <td>0.128119</td>\n      <td>-0.209865</td>\n      <td>...</td>\n      <td>-0.040015</td>\n      <td>-0.081470</td>\n      <td>-0.182506</td>\n      <td>0.078986</td>\n      <td>0.789993</td>\n      <td>0.219794</td>\n      <td>0.938359</td>\n      <td>-0.078720</td>\n      <td>0.008119</td>\n      <td>1.38</td>\n    </tr>\n    <tr>\n      <th>2</th>\n      <td>1.466457</td>\n      <td>0.026088</td>\n      <td>-0.499298</td>\n      <td>-0.674372</td>\n      <td>-0.144883</td>\n      <td>-1.178075</td>\n      <td>0.058089</td>\n      <td>-0.420145</td>\n      <td>-1.359651</td>\n      <td>0.210249</td>\n      <td>...</td>\n      <td>0.207653</td>\n      <td>-0.234087</td>\n      <td>-0.710542</td>\n      <td>-0.001242</td>\n      <td>-0.174713</td>\n      <td>0.533719</td>\n      <td>-0.454779</td>\n      <td>0.001524</td>\n      <td>0.030935</td>\n      <td>10.95</td>\n    </tr>\n    <tr>\n      <th>3</th>\n      <td>-0.922137</td>\n      <td>-0.371579</td>\n      <td>2.132018</td>\n      <td>-0.796997</td>\n      <td>0.324175</td>\n      <td>-1.162006</td>\n      <td>0.277208</td>\n      <td>-0.249586</td>\n      <td>-0.775648</td>\n      <td>-0.061757</td>\n      <td>...</td>\n      <td>-0.461062</td>\n      <td>-0.302654</td>\n      <td>-0.246899</td>\n      <td>-0.045745</td>\n      <td>0.677110</td>\n      <td>0.016109</td>\n      <td>-0.734220</td>\n      <td>-0.034480</td>\n      <td>-0.064786</td>\n      <td>8.04</td>\n    </tr>\n    <tr>\n      <th>4</th>\n      <td>-1.166525</td>\n      <td>0.255439</td>\n      <td>2.108464</td>\n      <td>0.135019</td>\n      <td>-0.072979</td>\n      <td>0.910821</td>\n      <td>0.755918</td>\n      <td>0.355528</td>\n      <td>-0.422820</td>\n      <td>-0.842826</td>\n      <td>...</td>\n      <td>0.353355</td>\n      <td>0.136470</td>\n      <td>0.017496</td>\n      <td>0.121017</td>\n      <td>0.636266</td>\n      <td>0.492943</td>\n      <td>-0.750242</td>\n      <td>0.029124</td>\n      <td>0.091303</td>\n      <td>175.00</td>\n    </tr>\n    <tr>\n      <th>...</th>\n      <td>...</td>\n      <td>...</td>\n      <td>...</td>\n      <td>...</td>\n      <td>...</td>\n      <td>...</td>\n      <td>...</td>\n      <td>...</td>\n      <td>...</td>\n      <td>...</td>\n      <td>...</td>\n      <td>...</td>\n      <td>...</td>\n      <td>...</td>\n      <td>...</td>\n      <td>...</td>\n      <td>...</td>\n      <td>...</td>\n      <td>...</td>\n      <td>...</td>\n      <td>...</td>\n    </tr>\n    <tr>\n      <th>284450</th>\n      <td>1.216221</td>\n      <td>0.095995</td>\n      <td>0.666817</td>\n      <td>1.850616</td>\n      <td>-0.516269</td>\n      <td>-0.267296</td>\n      <td>-0.183114</td>\n      <td>-0.104976</td>\n      <td>-1.985790</td>\n      <td>1.442988</td>\n      <td>...</td>\n      <td>-0.528517</td>\n      <td>-0.286826</td>\n      <td>-0.347838</td>\n      <td>0.072935</td>\n      <td>0.367923</td>\n      <td>0.358108</td>\n      <td>0.044019</td>\n      <td>0.027223</td>\n      <td>0.028017</td>\n      <td>19.46</td>\n    </tr>\n    <tr>\n      <th>284451</th>\n      <td>1.429502</td>\n      <td>-0.990271</td>\n      <td>-0.224429</td>\n      <td>-1.808740</td>\n      <td>0.770788</td>\n      <td>3.730989</td>\n      <td>-1.914212</td>\n      <td>1.036385</td>\n      <td>-0.316971</td>\n      <td>0.646103</td>\n      <td>...</td>\n      <td>0.206332</td>\n      <td>0.376136</td>\n      <td>0.928723</td>\n      <td>-0.108174</td>\n      <td>1.048922</td>\n      <td>0.481214</td>\n      <td>-0.026342</td>\n      <td>0.062900</td>\n      <td>0.024639</td>\n      <td>0.02</td>\n    </tr>\n    <tr>\n      <th>284452</th>\n      <td>2.041198</td>\n      <td>-0.218276</td>\n      <td>-1.405547</td>\n      <td>0.187570</td>\n      <td>0.001916</td>\n      <td>-0.781668</td>\n      <td>-0.043787</td>\n      <td>-0.090115</td>\n      <td>0.677407</td>\n      <td>0.227002</td>\n      <td>...</td>\n      <td>-0.348353</td>\n      <td>0.273900</td>\n      <td>0.844092</td>\n      <td>-0.023770</td>\n      <td>-0.407890</td>\n      <td>0.190140</td>\n      <td>-0.089576</td>\n      <td>-0.029237</td>\n      <td>-0.075626</td>\n      <td>1.00</td>\n    </tr>\n    <tr>\n      <th>284453</th>\n      <td>1.857451</td>\n      <td>0.071823</td>\n      <td>-0.086963</td>\n      <td>3.553877</td>\n      <td>0.082026</td>\n      <td>1.245277</td>\n      <td>-0.788886</td>\n      <td>0.467363</td>\n      <td>-0.271086</td>\n      <td>1.574760</td>\n      <td>...</td>\n      <td>-0.306389</td>\n      <td>0.170106</td>\n      <td>0.451313</td>\n      <td>0.157898</td>\n      <td>0.129330</td>\n      <td>-0.228721</td>\n      <td>0.012281</td>\n      <td>-0.003598</td>\n      <td>-0.041590</td>\n      <td>11.31</td>\n    </tr>\n    <tr>\n      <th>284454</th>\n      <td>-0.684651</td>\n      <td>1.031745</td>\n      <td>0.693707</td>\n      <td>0.966796</td>\n      <td>0.297916</td>\n      <td>1.261476</td>\n      <td>-0.125550</td>\n      <td>0.887185</td>\n      <td>-0.256040</td>\n      <td>-0.156763</td>\n      <td>...</td>\n      <td>0.027695</td>\n      <td>0.042087</td>\n      <td>0.333864</td>\n      <td>-0.259636</td>\n      <td>-1.304181</td>\n      <td>-0.035003</td>\n      <td>-0.099278</td>\n      <td>0.318439</td>\n      <td>0.128356</td>\n      <td>14.95</td>\n    </tr>\n  </tbody>\n</table>\n<p>284455 rows × 29 columns</p>\n</div>"
          },
          "metadata": {}
        }
      ],
      "execution_count": 18,
      "metadata": {
        "collapsed": true,
        "jupyter": {
          "source_hidden": false,
          "outputs_hidden": false
        },
        "nteract": {
          "transient": {
            "deleting": false
          }
        },
        "execution": {
          "iopub.status.busy": "2020-12-20T05:43:34.475Z",
          "iopub.execute_input": "2020-12-20T05:43:34.491Z",
          "iopub.status.idle": "2020-12-20T05:43:34.618Z",
          "shell.execute_reply": "2020-12-20T05:43:34.865Z"
        }
      }
    },
    {
      "cell_type": "code",
      "source": [
        "X1_train,X1_test,y1_train,y1_test=train_test_split(inputs1,target1,test_size=0.4)"
      ],
      "outputs": [],
      "execution_count": 19,
      "metadata": {
        "collapsed": true,
        "jupyter": {
          "source_hidden": false,
          "outputs_hidden": false
        },
        "nteract": {
          "transient": {
            "deleting": false
          }
        },
        "execution": {
          "iopub.status.busy": "2020-12-20T05:43:34.656Z",
          "iopub.execute_input": "2020-12-20T05:43:34.697Z",
          "shell.execute_reply": "2020-12-20T05:43:34.875Z",
          "iopub.status.idle": "2020-12-20T05:43:34.723Z"
        }
      }
    },
    {
      "cell_type": "code",
      "source": [
        "x1_train = scaler.fit_transform(X1_train) \n",
        "x1_test = scaler.transform(X1_test)"
      ],
      "outputs": [],
      "execution_count": 20,
      "metadata": {
        "collapsed": true,
        "jupyter": {
          "source_hidden": false,
          "outputs_hidden": false
        },
        "nteract": {
          "transient": {
            "deleting": false
          }
        },
        "execution": {
          "iopub.status.busy": "2020-12-20T05:43:34.747Z",
          "iopub.execute_input": "2020-12-20T05:43:34.763Z",
          "shell.execute_reply": "2020-12-20T05:43:34.885Z",
          "iopub.status.idle": "2020-12-20T05:43:34.903Z"
        }
      }
    },
    {
      "cell_type": "code",
      "source": [
        "model2=GradientBoostingClassifier(n_estimators=300,max_depth=12,learning_rate=0.2)"
      ],
      "outputs": [],
      "execution_count": 24,
      "metadata": {
        "collapsed": true,
        "jupyter": {
          "source_hidden": false,
          "outputs_hidden": false
        },
        "nteract": {
          "transient": {
            "deleting": false
          }
        },
        "execution": {
          "iopub.status.busy": "2020-12-20T05:47:03.987Z",
          "iopub.execute_input": "2020-12-20T05:47:04.009Z",
          "iopub.status.idle": "2020-12-20T05:47:04.046Z",
          "shell.execute_reply": "2020-12-20T05:47:04.068Z"
        }
      }
    },
    {
      "cell_type": "code",
      "source": [],
      "outputs": [],
      "execution_count": 25,
      "metadata": {
        "collapsed": true,
        "jupyter": {
          "source_hidden": false,
          "outputs_hidden": false
        },
        "nteract": {
          "transient": {
            "deleting": false
          }
        },
        "execution": {
          "iopub.status.busy": "2020-12-20T05:47:05.961Z",
          "iopub.execute_input": "2020-12-20T05:47:06.008Z",
          "iopub.status.idle": "2020-12-20T05:47:06.042Z",
          "shell.execute_reply": "2020-12-20T05:47:06.062Z"
        }
      }
    },
    {
      "cell_type": "code",
      "source": [],
      "outputs": [],
      "execution_count": 26,
      "metadata": {
        "collapsed": true,
        "jupyter": {
          "source_hidden": false,
          "outputs_hidden": false
        },
        "nteract": {
          "transient": {
            "deleting": false
          }
        },
        "execution": {
          "iopub.status.busy": "2020-12-20T05:47:07.582Z",
          "iopub.execute_input": "2020-12-20T05:47:07.616Z",
          "iopub.status.idle": "2020-12-20T05:47:07.669Z",
          "shell.execute_reply": "2020-12-20T05:47:07.696Z"
        }
      }
    },
    {
      "cell_type": "code",
      "source": [
        "model2.fit(x1_train,y1_train)"
      ],
      "outputs": [],
      "execution_count": 27,
      "metadata": {
        "collapsed": true,
        "jupyter": {
          "source_hidden": false,
          "outputs_hidden": false
        },
        "nteract": {
          "transient": {
            "deleting": false
          }
        },
        "execution": {
          "iopub.status.busy": "2020-12-20T05:47:10.888Z",
          "iopub.execute_input": "2020-12-20T05:47:10.903Z"
        }
      }
    },
    {
      "cell_type": "code",
      "source": [],
      "outputs": [],
      "execution_count": 30,
      "metadata": {
        "collapsed": true,
        "jupyter": {
          "source_hidden": false,
          "outputs_hidden": false
        },
        "nteract": {
          "transient": {
            "deleting": false
          }
        },
        "execution": {
          "iopub.status.busy": "2020-12-19T17:43:41.024Z",
          "iopub.execute_input": "2020-12-19T17:43:41.060Z"
        }
      }
    },
    {
      "cell_type": "code",
      "source": [],
      "outputs": [
        {
          "output_type": "execute_result",
          "execution_count": 53,
          "data": {
            "text/plain": "RandomForestClassifier()"
          },
          "metadata": {}
        }
      ],
      "execution_count": 53,
      "metadata": {
        "collapsed": true,
        "jupyter": {
          "source_hidden": false,
          "outputs_hidden": false
        },
        "nteract": {
          "transient": {
            "deleting": false
          }
        },
        "execution": {
          "iopub.status.busy": "2020-12-19T16:43:37.510Z",
          "iopub.execute_input": "2020-12-19T16:43:37.532Z",
          "iopub.status.idle": "2020-12-19T16:45:51.038Z",
          "shell.execute_reply": "2020-12-19T16:45:51.076Z"
        }
      }
    },
    {
      "cell_type": "code",
      "source": [
        "model2.score(x1_test,y1_test)"
      ],
      "outputs": [],
      "execution_count": null,
      "metadata": {
        "collapsed": true,
        "jupyter": {
          "source_hidden": false,
          "outputs_hidden": false
        },
        "nteract": {
          "transient": {
            "deleting": false
          }
        }
      }
    },
    {
      "cell_type": "code",
      "source": [],
      "outputs": [],
      "execution_count": null,
      "metadata": {
        "collapsed": true,
        "jupyter": {
          "source_hidden": false,
          "outputs_hidden": false
        },
        "nteract": {
          "transient": {
            "deleting": false
          }
        }
      }
    },
    {
      "cell_type": "code",
      "source": [],
      "outputs": [
        {
          "output_type": "execute_result",
          "execution_count": 59,
          "data": {
            "text/plain": "0.9995957181276476"
          },
          "metadata": {}
        }
      ],
      "execution_count": 59,
      "metadata": {
        "collapsed": true,
        "jupyter": {
          "source_hidden": false,
          "outputs_hidden": false
        },
        "nteract": {
          "transient": {
            "deleting": false
          }
        },
        "execution": {
          "iopub.status.busy": "2020-12-19T16:46:07.060Z",
          "iopub.execute_input": "2020-12-19T16:46:07.094Z",
          "iopub.status.idle": "2020-12-19T16:46:08.347Z",
          "shell.execute_reply": "2020-12-19T16:46:08.364Z"
        }
      }
    },
    {
      "cell_type": "code",
      "source": [
        "new_test_data = pd.read_csv(\"TEST.CSV\")"
      ],
      "outputs": [],
      "execution_count": null,
      "metadata": {
        "collapsed": true,
        "jupyter": {
          "source_hidden": false,
          "outputs_hidden": false
        },
        "nteract": {
          "transient": {
            "deleting": false
          }
        },
        "execution": {
          "iopub.status.busy": "2020-12-19T17:43:40.477Z",
          "iopub.execute_input": "2020-12-19T17:43:40.547Z",
          "iopub.status.idle": "2020-12-19T17:43:40.629Z",
          "shell.execute_reply": "2020-12-19T17:43:41.108Z"
        }
      }
    },
    {
      "cell_type": "code",
      "source": [
        "test_new=new_test_data.drop([\"Index\"],axis=\"columns\")\n",
        "target1 = model2.predict(test_new)"
      ],
      "outputs": [],
      "execution_count": null,
      "metadata": {
        "collapsed": true,
        "jupyter": {
          "source_hidden": false,
          "outputs_hidden": false
        },
        "nteract": {
          "transient": {
            "deleting": false
          }
        },
        "execution": {
          "iopub.status.busy": "2020-12-19T16:45:52.329Z",
          "iopub.execute_input": "2020-12-19T16:45:52.343Z"
        }
      }
    },
    {
      "cell_type": "code",
      "source": [],
      "outputs": [],
      "execution_count": 28,
      "metadata": {
        "collapsed": true,
        "jupyter": {
          "source_hidden": false,
          "outputs_hidden": false
        },
        "nteract": {
          "transient": {
            "deleting": false
          }
        },
        "execution": {
          "iopub.status.busy": "2020-12-19T17:43:40.674Z",
          "iopub.execute_input": "2020-12-19T17:43:40.706Z",
          "iopub.status.idle": "2020-12-19T17:43:40.760Z",
          "shell.execute_reply": "2020-12-19T17:43:41.133Z"
        }
      }
    },
    {
      "cell_type": "code",
      "source": [],
      "outputs": [],
      "execution_count": 61,
      "metadata": {
        "collapsed": true,
        "jupyter": {
          "source_hidden": false,
          "outputs_hidden": false
        },
        "nteract": {
          "transient": {
            "deleting": false
          }
        },
        "execution": {
          "iopub.status.busy": "2020-12-19T16:46:19.695Z",
          "iopub.execute_input": "2020-12-19T16:46:19.725Z",
          "iopub.status.idle": "2020-12-19T16:46:19.759Z",
          "shell.execute_reply": "2020-12-19T16:46:19.788Z"
        }
      }
    },
    {
      "cell_type": "code",
      "source": [
        "res = pd.DataFrame(target1)  \n",
        "res.index = test_new.index \n",
        "res.columns = [\"prediction\"]\n",
        "res.to_csv(\"New_Predicition_Gradient.csv\", index = True)  "
      ],
      "outputs": [],
      "execution_count": null,
      "metadata": {
        "collapsed": true,
        "jupyter": {
          "source_hidden": false,
          "outputs_hidden": false
        },
        "nteract": {
          "transient": {
            "deleting": false
          }
        }
      }
    },
    {
      "cell_type": "code",
      "source": [],
      "outputs": [],
      "execution_count": null,
      "metadata": {
        "collapsed": true,
        "jupyter": {
          "source_hidden": false,
          "outputs_hidden": false
        },
        "nteract": {
          "transient": {
            "deleting": false
          }
        }
      }
    },
    {
      "cell_type": "code",
      "source": [],
      "outputs": [],
      "execution_count": 62,
      "metadata": {
        "collapsed": true,
        "jupyter": {
          "source_hidden": false,
          "outputs_hidden": false
        },
        "nteract": {
          "transient": {
            "deleting": false
          }
        },
        "execution": {
          "iopub.status.busy": "2020-12-19T16:46:29.315Z",
          "iopub.execute_input": "2020-12-19T16:46:29.349Z",
          "iopub.status.idle": "2020-12-19T16:46:29.380Z",
          "shell.execute_reply": "2020-12-19T16:46:29.401Z"
        }
      }
    },
    {
      "cell_type": "code",
      "source": [],
      "outputs": [],
      "execution_count": null,
      "metadata": {
        "collapsed": true,
        "jupyter": {
          "source_hidden": false,
          "outputs_hidden": false
        },
        "nteract": {
          "transient": {
            "deleting": false
          }
        }
      }
    },
    {
      "cell_type": "code",
      "source": [],
      "outputs": [],
      "execution_count": null,
      "metadata": {
        "collapsed": true,
        "jupyter": {
          "source_hidden": false,
          "outputs_hidden": false
        },
        "nteract": {
          "transient": {
            "deleting": false
          }
        }
      }
    }
  ],
  "metadata": {
    "kernel_info": {
      "name": "python3"
    },
    "language_info": {
      "name": "python",
      "version": "3.7.1",
      "mimetype": "text/x-python",
      "codemirror_mode": {
        "name": "ipython",
        "version": 3
      },
      "pygments_lexer": "ipython3",
      "nbconvert_exporter": "python",
      "file_extension": ".py"
    },
    "kernelspec": {
      "argv": [
        "python",
        "-m",
        "ipykernel_launcher",
        "-f",
        "{connection_file}"
      ],
      "display_name": "Python 3",
      "language": "python",
      "name": "python3"
    },
    "nteract": {
      "version": "0.27.0"
    }
  },
  "nbformat": 4,
  "nbformat_minor": 0
}